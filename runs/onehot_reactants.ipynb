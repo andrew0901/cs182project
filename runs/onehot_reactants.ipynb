{
 "cells": [
  {
   "cell_type": "code",
   "execution_count": 1,
   "metadata": {},
   "outputs": [],
   "source": [
    "import sys\n",
    "sys.path.insert(0,'..')"
   ]
  },
  {
   "cell_type": "code",
   "execution_count": 2,
   "metadata": {},
   "outputs": [],
   "source": [
    "from dataset import ASODataset\n",
    "from graph_fn import onehot_reactant_batch\n",
    "from trainer import Trainer\n",
    "from sklearn.model_selection import train_test_split\n",
    "from torch.optim.lr_scheduler import ExponentialLR\n",
    "import torch\n",
    "from torch_geometric.loader import DataLoader\n",
    "from models import *"
   ]
  },
  {
   "cell_type": "code",
   "execution_count": 4,
   "metadata": {},
   "outputs": [],
   "source": [
    "#hyperparameters\n",
    "LEARNING_RATE = 7.5e-3\n",
    "BATCH_SIZE = 16\n",
    "NODE_INPUT_SIZE = 14\n",
    "OUTPUT_SIZE_BEFORE_POOL = 30\n",
    "NODE_HIDDEN_SIZE = 60\n",
    "GLOB_VEC_SIZE = 10\n",
    "EPOCHS = 50\n",
    "DROP_OUT = 0\n",
    "BOND_ATTR = 5"
   ]
  },
  {
   "cell_type": "code",
   "execution_count": 5,
   "metadata": {},
   "outputs": [
    {
     "name": "stderr",
     "output_type": "stream",
     "text": [
      "c:\\Users\\Haoyu Fan\\Desktop\\GNN\\GNN_enantioselectivity\\runs\\..\\ASOhelpers.py:74: UserWarning: Creating a tensor from a list of numpy.ndarrays is extremely slow. Please consider converting the list to a single numpy.ndarray with numpy.array() before converting to a tensor. (Triggered internally at  C:\\cb\\pytorch_1000000000000\\work\\torch\\csrc\\utils\\tensor_new.cpp:204.)\n",
      "  edge_attr = torch.tensor(edge_attr, dtype=torch.float)\n"
     ]
    }
   ],
   "source": [
    "a = ASODataset(onehot_reactant_batch)\n",
    "train_data, val_data = train_test_split(a.data, test_size = 0.1, random_state = 42)\n",
    "train_loader = DataLoader(train_data, batch_size = BATCH_SIZE, shuffle = True)\n",
    "val_loader = DataLoader(val_data, batch_size = BATCH_SIZE, shuffle = False)"
   ]
  },
  {
   "cell_type": "code",
   "execution_count": 6,
   "metadata": {},
   "outputs": [],
   "source": [
    "device = torch.device('cuda')\n",
    "model = GNNModel(NODE_INPUT_SIZE, NODE_HIDDEN_SIZE, \n",
    "                      OUTPUT_SIZE_BEFORE_POOL, GLOB_VEC_SIZE, num_layers=2, dp_rate=DROP_OUT)\n",
    "optimizer = torch.optim.Adam(model.parameters(), lr=LEARNING_RATE)\n",
    "scheduler = ExponentialLR(optimizer, gamma=0.95)"
   ]
  },
  {
   "cell_type": "code",
   "execution_count": 7,
   "metadata": {},
   "outputs": [
    {
     "name": "stdout",
     "output_type": "stream",
     "text": [
      "Epoch: 001, Train Loss: 0.4974, Test Loss: 0.5263, Train MAE: 0.1120, Test MAE: 0.1272, , Train R2: 0.1972, Test R2: 0.1235\n",
      "Epoch: 002, Train Loss: 0.4942, Test Loss: 0.5250, Train MAE: 0.1080, Test MAE: 0.1263, , Train R2: 0.2470, Test R2: 0.1425\n",
      "Epoch: 003, Train Loss: 0.4916, Test Loss: 0.5274, Train MAE: 0.0936, Test MAE: 0.1164, , Train R2: 0.2708, Test R2: 0.1166\n",
      "Epoch: 004, Train Loss: 0.4859, Test Loss: 0.5177, Train MAE: 0.0956, Test MAE: 0.1139, , Train R2: 0.3612, Test R2: 0.2367\n",
      "Epoch: 005, Train Loss: 0.5025, Test Loss: 0.5293, Train MAE: 0.1305, Test MAE: 0.1397, , Train R2: 0.0980, Test R2: 0.0505\n",
      "Epoch: 006, Train Loss: 0.4769, Test Loss: 0.5043, Train MAE: 0.0878, Test MAE: 0.1035, , Train R2: 0.5007, Test R2: 0.4228\n",
      "Epoch: 007, Train Loss: 0.4710, Test Loss: 0.4987, Train MAE: 0.0781, Test MAE: 0.0953, , Train R2: 0.5783, Test R2: 0.4989\n",
      "Epoch: 008, Train Loss: 0.4682, Test Loss: 0.4938, Train MAE: 0.0758, Test MAE: 0.0871, , Train R2: 0.6240, Test R2: 0.5672\n",
      "Epoch: 009, Train Loss: 0.4630, Test Loss: 0.4885, Train MAE: 0.0643, Test MAE: 0.0790, , Train R2: 0.6951, Test R2: 0.6315\n",
      "Epoch: 010, Train Loss: 0.4710, Test Loss: 0.4932, Train MAE: 0.0833, Test MAE: 0.0868, , Train R2: 0.5695, Test R2: 0.5655\n",
      "Epoch: 011, Train Loss: 0.4586, Test Loss: 0.4836, Train MAE: 0.0559, Test MAE: 0.0711, , Train R2: 0.7502, Test R2: 0.6894\n",
      "Epoch: 012, Train Loss: 0.4606, Test Loss: 0.4859, Train MAE: 0.0609, Test MAE: 0.0739, , Train R2: 0.7348, Test R2: 0.6675\n",
      "Epoch: 013, Train Loss: 0.4597, Test Loss: 0.4833, Train MAE: 0.0595, Test MAE: 0.0686, , Train R2: 0.7480, Test R2: 0.7068\n",
      "Epoch: 014, Train Loss: 0.4566, Test Loss: 0.4813, Train MAE: 0.0513, Test MAE: 0.0641, , Train R2: 0.7807, Test R2: 0.7230\n",
      "Epoch: 015, Train Loss: 0.4584, Test Loss: 0.4820, Train MAE: 0.0590, Test MAE: 0.0681, , Train R2: 0.7630, Test R2: 0.7210\n",
      "Epoch: 016, Train Loss: 0.4553, Test Loss: 0.4782, Train MAE: 0.0514, Test MAE: 0.0619, , Train R2: 0.8041, Test R2: 0.7699\n",
      "Epoch: 017, Train Loss: 0.4634, Test Loss: 0.4876, Train MAE: 0.0636, Test MAE: 0.0737, , Train R2: 0.6885, Test R2: 0.6426\n",
      "Epoch: 018, Train Loss: 0.4578, Test Loss: 0.4807, Train MAE: 0.0569, Test MAE: 0.0651, , Train R2: 0.7724, Test R2: 0.7401\n",
      "Epoch: 019, Train Loss: 0.4566, Test Loss: 0.4809, Train MAE: 0.0520, Test MAE: 0.0648, , Train R2: 0.7820, Test R2: 0.7273\n",
      "Epoch: 020, Train Loss: 0.4667, Test Loss: 0.4876, Train MAE: 0.0780, Test MAE: 0.0799, , Train R2: 0.6412, Test R2: 0.6552\n",
      "Epoch: 021, Train Loss: 0.4713, Test Loss: 0.4994, Train MAE: 0.0735, Test MAE: 0.0879, , Train R2: 0.5725, Test R2: 0.4804\n",
      "Epoch: 022, Train Loss: 0.4562, Test Loss: 0.4802, Train MAE: 0.0510, Test MAE: 0.0638, , Train R2: 0.7858, Test R2: 0.7336\n",
      "Epoch: 023, Train Loss: 0.4568, Test Loss: 0.4784, Train MAE: 0.0551, Test MAE: 0.0630, , Train R2: 0.7926, Test R2: 0.7770\n",
      "Epoch: 024, Train Loss: 0.4558, Test Loss: 0.4799, Train MAE: 0.0517, Test MAE: 0.0642, , Train R2: 0.7850, Test R2: 0.7379\n",
      "Epoch: 025, Train Loss: 0.4540, Test Loss: 0.4781, Train MAE: 0.0475, Test MAE: 0.0613, , Train R2: 0.8168, Test R2: 0.7650\n",
      "Epoch: 026, Train Loss: 0.4547, Test Loss: 0.4760, Train MAE: 0.0512, Test MAE: 0.0583, , Train R2: 0.8175, Test R2: 0.8070\n",
      "Epoch: 027, Train Loss: 0.4528, Test Loss: 0.4756, Train MAE: 0.0457, Test MAE: 0.0567, , Train R2: 0.8412, Test R2: 0.8091\n",
      "Epoch: 028, Train Loss: 0.4581, Test Loss: 0.4811, Train MAE: 0.0545, Test MAE: 0.0650, , Train R2: 0.7644, Test R2: 0.7281\n",
      "Epoch: 029, Train Loss: 0.4527, Test Loss: 0.4752, Train MAE: 0.0457, Test MAE: 0.0561, , Train R2: 0.8409, Test R2: 0.8128\n",
      "Epoch: 030, Train Loss: 0.4538, Test Loss: 0.4775, Train MAE: 0.0470, Test MAE: 0.0589, , Train R2: 0.8248, Test R2: 0.7793\n",
      "Epoch: 031, Train Loss: 0.4530, Test Loss: 0.4761, Train MAE: 0.0475, Test MAE: 0.0586, , Train R2: 0.8334, Test R2: 0.7975\n",
      "Epoch: 032, Train Loss: 0.4569, Test Loss: 0.4788, Train MAE: 0.0568, Test MAE: 0.0629, , Train R2: 0.7861, Test R2: 0.7734\n",
      "Epoch: 033, Train Loss: 0.4526, Test Loss: 0.4750, Train MAE: 0.0465, Test MAE: 0.0563, , Train R2: 0.8422, Test R2: 0.8177\n",
      "Epoch: 034, Train Loss: 0.4538, Test Loss: 0.4757, Train MAE: 0.0468, Test MAE: 0.0573, , Train R2: 0.8259, Test R2: 0.8006\n",
      "Epoch: 035, Train Loss: 0.4524, Test Loss: 0.4752, Train MAE: 0.0449, Test MAE: 0.0561, , Train R2: 0.8427, Test R2: 0.8076\n",
      "Epoch: 036, Train Loss: 0.4558, Test Loss: 0.4772, Train MAE: 0.0515, Test MAE: 0.0585, , Train R2: 0.7914, Test R2: 0.7808\n",
      "Epoch: 037, Train Loss: 0.4520, Test Loss: 0.4745, Train MAE: 0.0444, Test MAE: 0.0533, , Train R2: 0.8512, Test R2: 0.8218\n",
      "Epoch: 038, Train Loss: 0.4521, Test Loss: 0.4751, Train MAE: 0.0446, Test MAE: 0.0559, , Train R2: 0.8494, Test R2: 0.8133\n",
      "Epoch: 039, Train Loss: 0.4512, Test Loss: 0.4733, Train MAE: 0.0423, Test MAE: 0.0530, , Train R2: 0.8627, Test R2: 0.8349\n",
      "Epoch: 040, Train Loss: 0.4545, Test Loss: 0.4773, Train MAE: 0.0523, Test MAE: 0.0605, , Train R2: 0.8118, Test R2: 0.7837\n",
      "Epoch: 041, Train Loss: 0.4519, Test Loss: 0.4747, Train MAE: 0.0438, Test MAE: 0.0548, , Train R2: 0.8545, Test R2: 0.8191\n",
      "Epoch: 042, Train Loss: 0.4542, Test Loss: 0.4783, Train MAE: 0.0470, Test MAE: 0.0593, , Train R2: 0.8227, Test R2: 0.7678\n",
      "Epoch: 043, Train Loss: 0.4537, Test Loss: 0.4768, Train MAE: 0.0468, Test MAE: 0.0577, , Train R2: 0.8267, Test R2: 0.7865\n",
      "Epoch: 044, Train Loss: 0.4539, Test Loss: 0.4762, Train MAE: 0.0475, Test MAE: 0.0567, , Train R2: 0.8255, Test R2: 0.8000\n",
      "Epoch: 045, Train Loss: 0.4512, Test Loss: 0.4735, Train MAE: 0.0423, Test MAE: 0.0523, , Train R2: 0.8638, Test R2: 0.8345\n",
      "Epoch: 046, Train Loss: 0.4517, Test Loss: 0.4741, Train MAE: 0.0440, Test MAE: 0.0537, , Train R2: 0.8574, Test R2: 0.8290\n",
      "Epoch: 047, Train Loss: 0.4553, Test Loss: 0.4786, Train MAE: 0.0494, Test MAE: 0.0597, , Train R2: 0.7974, Test R2: 0.7610\n",
      "Epoch: 048, Train Loss: 0.4511, Test Loss: 0.4733, Train MAE: 0.0425, Test MAE: 0.0533, , Train R2: 0.8632, Test R2: 0.8351\n",
      "Epoch: 049, Train Loss: 0.4513, Test Loss: 0.4742, Train MAE: 0.0433, Test MAE: 0.0553, , Train R2: 0.8596, Test R2: 0.8213\n",
      "Epoch: 050, Train Loss: 0.4529, Test Loss: 0.4753, Train MAE: 0.0470, Test MAE: 0.0566, , Train R2: 0.8440, Test R2: 0.8141\n"
     ]
    },
    {
     "data": {
      "text/plain": [
       "array([0.45292851, 0.04697046, 0.84399331, 0.47528246, 0.05657551,\n",
       "       0.81406794])"
      ]
     },
     "execution_count": 7,
     "metadata": {},
     "output_type": "execute_result"
    },
    {
     "data": {
      "image/png": "[encoded data removed]",
      "text/plain": [
       "<Figure size 432x288 with 1 Axes>"
      ]
     },
     "metadata": {
      "needs_background": "light"
     },
     "output_type": "display_data"
    },
    {
     "data": {
      "image/png": "[encoded data removed]",
      "text/plain": [
       "<Figure size 432x288 with 1 Axes>"
      ]
     },
     "metadata": {
      "needs_background": "light"
     },
     "output_type": "display_data"
    }
   ],
   "source": [
    "t = Trainer(model, device, optimizer, scheduler, glob_v= True)\n",
    "t.train(train_loader, val_loader, nn.BCELoss, EPOCHS)"
   ]
  }
 ],
 "metadata": {
  "kernelspec": {
   "display_name": "GnnCataProj",
   "language": "python",
   "name": "python3"
  },
  "language_info": {
   "codemirror_mode": {
    "name": "ipython",
    "version": 3
   },
   "file_extension": ".py",
   "mimetype": "text/x-python",
   "name": "python",
   "nbconvert_exporter": "python",
   "pygments_lexer": "ipython3",
   "version": "3.8.13 | packaged by conda-forge | (default, Mar 25 2022, 05:59:45) [MSC v.1929 64 bit (AMD64)]"
  },
  "orig_nbformat": 4,
  "vscode": {
   "interpreter": {
    "hash": "60c01ca87e790fbba02349cee74039a7566d69b3907e07f5c100b7f11f4df75f"
   }
  }
 },
 "nbformat": 4,
 "nbformat_minor": 2
}
