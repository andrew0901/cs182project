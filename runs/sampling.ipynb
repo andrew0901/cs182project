{
 "cells": [
  {
   "cell_type": "code",
   "execution_count": 1,
   "metadata": {},
   "outputs": [],
   "source": [
    "import sys\n",
    "sys.path.insert(0,'..')"
   ]
  },
  {
   "cell_type": "code",
   "execution_count": 2,
   "metadata": {},
   "outputs": [],
   "source": [
    "from dataset import ASODataset\n",
    "from graph_fn import single_graph_batch\n",
    "from trainer import Trainer\n",
    "from sklearn.model_selection import train_test_split\n",
    "from torch.optim.lr_scheduler import ExponentialLR\n",
    "import torch\n",
    "from torch_geometric.loader import DataLoader\n",
    "from models import *"
   ]
  },
  {
   "cell_type": "code",
   "execution_count": 3,
   "metadata": {},
   "outputs": [],
   "source": [
    "#hyperparameters\n",
    "LEARNING_RATE = 7.5e-3\n",
    "BATCH_SIZE = 16\n",
    "NODE_INPUT_SIZE = 14\n",
    "OUTPUT_SIZE_BEFORE_POOL = 20\n",
    "NODE_HIDDEN_SIZE = 50\n",
    "EPOCHS = 50\n",
    "DROP_OUT = 0\n",
    "BOND_ATTR = 5"
   ]
  },
  {
   "cell_type": "code",
   "execution_count": 4,
   "metadata": {},
   "outputs": [
    {
     "name": "stderr",
     "output_type": "stream",
     "text": [
      "c:\\Users\\Haoyu Fan\\Desktop\\GNN\\GNN_enantioselectivity\\runs\\..\\ASOhelpers.py:133: UserWarning: Creating a tensor from a list of numpy.ndarrays is extremely slow. Please consider converting the list to a single numpy.ndarray with numpy.array() before converting to a tensor. (Triggered internally at  C:\\cb\\pytorch_1000000000000\\work\\torch\\csrc\\utils\\tensor_new.cpp:204.)\n",
      "  edge_attr = torch.tensor(edge_attr, dtype=torch.float)\n"
     ]
    }
   ],
   "source": [
    "a = ASODataset(single_graph_batch)\n",
    "train_data, val_data = a.sample_test_data(19,2,2)\n",
    "train_loader = DataLoader(train_data, batch_size = BATCH_SIZE, shuffle = True)\n",
    "val_loader = DataLoader(val_data, batch_size = BATCH_SIZE, shuffle = False)"
   ]
  },
  {
   "cell_type": "code",
   "execution_count": 5,
   "metadata": {},
   "outputs": [],
   "source": [
    "device = torch.device('cuda')\n",
    "model = GNNModel_sg_edge_attr(NODE_INPUT_SIZE, NODE_HIDDEN_SIZE, \n",
    "                      OUTPUT_SIZE_BEFORE_POOL, BOND_ATTR, num_layers=2, dp_rate=DROP_OUT)\n",
    "optimizer = torch.optim.Adam(model.parameters(), lr=LEARNING_RATE)\n",
    "scheduler = ExponentialLR(optimizer, gamma=0.95)"
   ]
  },
  {
   "cell_type": "code",
   "execution_count": 6,
   "metadata": {},
   "outputs": [
    {
     "name": "stdout",
     "output_type": "stream",
     "text": [
      "Epoch: 001, Train Loss: 0.5132, Test Loss: 0.5752, Train MAE: 0.1225, Test MAE: 0.1502, , Train R2: -0.0544, Test R2: -0.1778\n",
      "Epoch: 002, Train Loss: 0.5066, Test Loss: 0.5599, Train MAE: 0.1239, Test MAE: 0.1460, , Train R2: 0.0341, Test R2: -0.0188\n",
      "Epoch: 003, Train Loss: 0.5078, Test Loss: 0.5541, Train MAE: 0.1290, Test MAE: 0.1456, , Train R2: 0.0192, Test R2: 0.0525\n",
      "Epoch: 004, Train Loss: 0.5056, Test Loss: 0.5583, Train MAE: 0.1209, Test MAE: 0.1434, , Train R2: 0.0464, Test R2: -0.0022\n",
      "Epoch: 005, Train Loss: 0.5036, Test Loss: 0.5532, Train MAE: 0.1209, Test MAE: 0.1405, , Train R2: 0.0773, Test R2: 0.0578\n",
      "Epoch: 006, Train Loss: 0.5022, Test Loss: 0.5506, Train MAE: 0.1195, Test MAE: 0.1382, , Train R2: 0.0988, Test R2: 0.0892\n",
      "Epoch: 007, Train Loss: 0.5011, Test Loss: 0.5475, Train MAE: 0.1197, Test MAE: 0.1365, , Train R2: 0.1172, Test R2: 0.1285\n",
      "Epoch: 008, Train Loss: 0.4993, Test Loss: 0.5433, Train MAE: 0.1190, Test MAE: 0.1333, , Train R2: 0.1508, Test R2: 0.1886\n",
      "Epoch: 009, Train Loss: 0.4958, Test Loss: 0.5431, Train MAE: 0.1057, Test MAE: 0.1251, , Train R2: 0.1799, Test R2: 0.1704\n",
      "Epoch: 010, Train Loss: 0.4793, Test Loss: 0.5187, Train MAE: 0.0949, Test MAE: 0.1059, , Train R2: 0.4514, Test R2: 0.4858\n",
      "Epoch: 011, Train Loss: 0.4856, Test Loss: 0.5260, Train MAE: 0.1038, Test MAE: 0.1178, , Train R2: 0.3814, Test R2: 0.4184\n",
      "Epoch: 012, Train Loss: 0.4707, Test Loss: 0.5137, Train MAE: 0.0809, Test MAE: 0.0970, , Train R2: 0.5597, Test R2: 0.5239\n",
      "Epoch: 013, Train Loss: 0.4672, Test Loss: 0.5065, Train MAE: 0.0709, Test MAE: 0.0841, , Train R2: 0.6026, Test R2: 0.5899\n",
      "Epoch: 014, Train Loss: 0.4662, Test Loss: 0.5058, Train MAE: 0.0695, Test MAE: 0.0854, , Train R2: 0.6110, Test R2: 0.5817\n",
      "Epoch: 015, Train Loss: 0.4639, Test Loss: 0.5060, Train MAE: 0.0698, Test MAE: 0.0883, , Train R2: 0.6436, Test R2: 0.5852\n",
      "Epoch: 016, Train Loss: 0.4736, Test Loss: 0.5129, Train MAE: 0.0880, Test MAE: 0.1007, , Train R2: 0.5292, Test R2: 0.5462\n",
      "Epoch: 017, Train Loss: 0.4606, Test Loss: 0.5004, Train MAE: 0.0650, Test MAE: 0.0807, , Train R2: 0.7022, Test R2: 0.6629\n",
      "Epoch: 018, Train Loss: 0.4628, Test Loss: 0.5017, Train MAE: 0.0639, Test MAE: 0.0803, , Train R2: 0.6616, Test R2: 0.6218\n",
      "Epoch: 019, Train Loss: 0.4587, Test Loss: 0.4966, Train MAE: 0.0597, Test MAE: 0.0737, , Train R2: 0.7304, Test R2: 0.7022\n",
      "Epoch: 020, Train Loss: 0.4630, Test Loss: 0.5025, Train MAE: 0.0705, Test MAE: 0.0843, , Train R2: 0.6693, Test R2: 0.6449\n",
      "Epoch: 021, Train Loss: 0.4604, Test Loss: 0.4966, Train MAE: 0.0587, Test MAE: 0.0707, , Train R2: 0.7084, Test R2: 0.6955\n",
      "Epoch: 022, Train Loss: 0.4617, Test Loss: 0.5012, Train MAE: 0.0683, Test MAE: 0.0842, , Train R2: 0.6940, Test R2: 0.6632\n",
      "Epoch: 023, Train Loss: 0.4723, Test Loss: 0.5075, Train MAE: 0.0742, Test MAE: 0.0859, , Train R2: 0.5705, Test R2: 0.5563\n",
      "Epoch: 024, Train Loss: 0.4570, Test Loss: 0.4976, Train MAE: 0.0588, Test MAE: 0.0765, , Train R2: 0.7486, Test R2: 0.6882\n",
      "Epoch: 025, Train Loss: 0.4621, Test Loss: 0.5028, Train MAE: 0.0679, Test MAE: 0.0815, , Train R2: 0.6766, Test R2: 0.6350\n",
      "Epoch: 026, Train Loss: 0.4541, Test Loss: 0.4930, Train MAE: 0.0518, Test MAE: 0.0667, , Train R2: 0.7885, Test R2: 0.7478\n",
      "Epoch: 027, Train Loss: 0.4558, Test Loss: 0.4977, Train MAE: 0.0537, Test MAE: 0.0698, , Train R2: 0.7552, Test R2: 0.6785\n",
      "Epoch: 028, Train Loss: 0.4522, Test Loss: 0.4908, Train MAE: 0.0459, Test MAE: 0.0592, , Train R2: 0.8154, Test R2: 0.7696\n",
      "Epoch: 029, Train Loss: 0.4522, Test Loss: 0.4908, Train MAE: 0.0463, Test MAE: 0.0577, , Train R2: 0.8203, Test R2: 0.7831\n",
      "Epoch: 030, Train Loss: 0.4520, Test Loss: 0.4912, Train MAE: 0.0455, Test MAE: 0.0576, , Train R2: 0.8123, Test R2: 0.7585\n",
      "Epoch: 031, Train Loss: 0.4582, Test Loss: 0.4913, Train MAE: 0.0576, Test MAE: 0.0620, , Train R2: 0.7509, Test R2: 0.7687\n",
      "Epoch: 032, Train Loss: 0.4519, Test Loss: 0.4907, Train MAE: 0.0455, Test MAE: 0.0571, , Train R2: 0.8246, Test R2: 0.7895\n",
      "Epoch: 033, Train Loss: 0.4552, Test Loss: 0.4923, Train MAE: 0.0557, Test MAE: 0.0642, , Train R2: 0.7814, Test R2: 0.7757\n",
      "Epoch: 034, Train Loss: 0.4491, Test Loss: 0.4843, Train MAE: 0.0410, Test MAE: 0.0473, , Train R2: 0.8674, Test R2: 0.8701\n",
      "Epoch: 035, Train Loss: 0.4527, Test Loss: 0.4906, Train MAE: 0.0484, Test MAE: 0.0605, , Train R2: 0.8000, Test R2: 0.7661\n",
      "Epoch: 036, Train Loss: 0.4494, Test Loss: 0.4831, Train MAE: 0.0407, Test MAE: 0.0438, , Train R2: 0.8648, Test R2: 0.8796\n",
      "Epoch: 037, Train Loss: 0.4502, Test Loss: 0.4867, Train MAE: 0.0440, Test MAE: 0.0547, , Train R2: 0.8392, Test R2: 0.8249\n",
      "Epoch: 038, Train Loss: 0.4491, Test Loss: 0.4846, Train MAE: 0.0408, Test MAE: 0.0463, , Train R2: 0.8729, Test R2: 0.8709\n",
      "Epoch: 039, Train Loss: 0.4488, Test Loss: 0.4847, Train MAE: 0.0382, Test MAE: 0.0453, , Train R2: 0.8723, Test R2: 0.8596\n",
      "Epoch: 040, Train Loss: 0.4506, Test Loss: 0.4855, Train MAE: 0.0447, Test MAE: 0.0492, , Train R2: 0.8388, Test R2: 0.8421\n",
      "Epoch: 041, Train Loss: 0.4497, Test Loss: 0.4844, Train MAE: 0.0434, Test MAE: 0.0480, , Train R2: 0.8611, Test R2: 0.8758\n",
      "Epoch: 042, Train Loss: 0.4487, Test Loss: 0.4832, Train MAE: 0.0399, Test MAE: 0.0436, , Train R2: 0.8756, Test R2: 0.8864\n",
      "Epoch: 043, Train Loss: 0.4489, Test Loss: 0.4840, Train MAE: 0.0395, Test MAE: 0.0449, , Train R2: 0.8712, Test R2: 0.8703\n",
      "Epoch: 044, Train Loss: 0.4513, Test Loss: 0.4894, Train MAE: 0.0472, Test MAE: 0.0606, , Train R2: 0.8207, Test R2: 0.7946\n",
      "Epoch: 045, Train Loss: 0.4510, Test Loss: 0.4859, Train MAE: 0.0464, Test MAE: 0.0497, , Train R2: 0.8480, Test R2: 0.8549\n",
      "Epoch: 046, Train Loss: 0.4480, Test Loss: 0.4839, Train MAE: 0.0387, Test MAE: 0.0463, , Train R2: 0.8855, Test R2: 0.8769\n",
      "Epoch: 047, Train Loss: 0.4484, Test Loss: 0.4820, Train MAE: 0.0392, Test MAE: 0.0422, , Train R2: 0.8773, Test R2: 0.8945\n",
      "Epoch: 048, Train Loss: 0.4472, Test Loss: 0.4808, Train MAE: 0.0355, Test MAE: 0.0387, , Train R2: 0.8950, Test R2: 0.9106\n",
      "Epoch: 049, Train Loss: 0.4494, Test Loss: 0.4843, Train MAE: 0.0421, Test MAE: 0.0473, , Train R2: 0.8700, Test R2: 0.8729\n",
      "Epoch: 050, Train Loss: 0.4467, Test Loss: 0.4806, Train MAE: 0.0343, Test MAE: 0.0378, , Train R2: 0.9017, Test R2: 0.9154\n"
     ]
    },
    {
     "data": {
      "text/plain": [
       "array([0.44671717, 0.03425636, 0.90168955, 0.48063534, 0.03781119,\n",
       "       0.91539251])"
      ]
     },
     "execution_count": 6,
     "metadata": {},
     "output_type": "execute_result"
    },
    {
     "data": {
      "image/png": "[encoded data removed]",
      "text/plain": [
       "<Figure size 432x288 with 1 Axes>"
      ]
     },
     "metadata": {
      "needs_background": "light"
     },
     "output_type": "display_data"
    },
    {
     "data": {
      "image/png": "[encoded data removed]",
      "text/plain": [
       "<Figure size 432x288 with 1 Axes>"
      ]
     },
     "metadata": {
      "needs_background": "light"
     },
     "output_type": "display_data"
    }
   ],
   "source": [
    "t = Trainer(model, device, optimizer, scheduler, glob_v= False)\n",
    "t.train(train_loader, val_loader, nn.BCELoss, EPOCHS)"
   ]
  }
 ],
 "metadata": {
  "kernelspec": {
   "display_name": "GnnCataProj",
   "language": "python",
   "name": "python3"
  },
  "language_info": {
   "codemirror_mode": {
    "name": "ipython",
    "version": 3
   },
   "file_extension": ".py",
   "mimetype": "text/x-python",
   "name": "python",
   "nbconvert_exporter": "python",
   "pygments_lexer": "ipython3",
   "version": "3.8.13 | packaged by conda-forge | (default, Mar 25 2022, 05:59:45) [MSC v.1929 64 bit (AMD64)]"
  },
  "orig_nbformat": 4,
  "vscode": {
   "interpreter": {
    "hash": "60c01ca87e790fbba02349cee74039a7566d69b3907e07f5c100b7f11f4df75f"
   }
  }
 },
 "nbformat": 4,
 "nbformat_minor": 2
}
