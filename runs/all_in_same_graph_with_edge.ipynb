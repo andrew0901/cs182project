{
 "cells": [
  {
   "cell_type": "code",
   "execution_count": 1,
   "metadata": {},
   "outputs": [],
   "source": [
    "import sys\n",
    "sys.path.insert(0,'..')"
   ]
  },
  {
   "cell_type": "code",
   "execution_count": 2,
   "metadata": {},
   "outputs": [],
   "source": [
    "from dataset import ASODataset\n",
    "from graph_fn import single_graph_batch\n",
    "from trainer import Trainer\n",
    "from sklearn.model_selection import train_test_split\n",
    "from torch.optim.lr_scheduler import ExponentialLR\n",
    "import torch\n",
    "from torch_geometric.loader import DataLoader\n",
    "from models import *"
   ]
  },
  {
   "cell_type": "code",
   "execution_count": 3,
   "metadata": {},
   "outputs": [],
   "source": [
    "#hyperparameters\n",
    "LEARNING_RATE = 7.5e-3\n",
    "BATCH_SIZE = 16\n",
    "NODE_INPUT_SIZE = 14\n",
    "OUTPUT_SIZE_BEFORE_POOL = 20\n",
    "NODE_HIDDEN_SIZE = 50\n",
    "EPOCHS = 50\n",
    "DROP_OUT = 0\n",
    "BOND_ATTR = 5"
   ]
  },
  {
   "cell_type": "code",
   "execution_count": 4,
   "metadata": {},
   "outputs": [
    {
     "name": "stderr",
     "output_type": "stream",
     "text": [
      "c:\\Users\\Haoyu Fan\\Desktop\\GNN\\GNN_enantioselectivity\\runs\\..\\ASOhelpers.py:133: UserWarning: Creating a tensor from a list of numpy.ndarrays is extremely slow. Please consider converting the list to a single numpy.ndarray with numpy.array() before converting to a tensor. (Triggered internally at  C:\\cb\\pytorch_1000000000000\\work\\torch\\csrc\\utils\\tensor_new.cpp:204.)\n",
      "  edge_attr = torch.tensor(edge_attr, dtype=torch.float)\n"
     ]
    }
   ],
   "source": [
    "a = ASODataset(single_graph_batch)\n",
    "train_data, val_data = train_test_split(a.data, test_size = 0.1, random_state = 42)\n",
    "train_loader = DataLoader(train_data, batch_size = BATCH_SIZE, shuffle = True)\n",
    "val_loader = DataLoader(val_data, batch_size = BATCH_SIZE, shuffle = False)"
   ]
  },
  {
   "cell_type": "code",
   "execution_count": 7,
   "metadata": {},
   "outputs": [],
   "source": [
    "device = torch.device('cuda')\n",
    "model = GNNModel_sg_edge_attr(NODE_INPUT_SIZE, NODE_HIDDEN_SIZE, \n",
    "                      OUTPUT_SIZE_BEFORE_POOL, BOND_ATTR, num_layers=3, dp_rate=DROP_OUT)\n",
    "optimizer = torch.optim.Adam(model.parameters(), lr=LEARNING_RATE)\n",
    "scheduler = ExponentialLR(optimizer, gamma=0.95)"
   ]
  },
  {
   "cell_type": "code",
   "execution_count": 8,
   "metadata": {},
   "outputs": [
    {
     "name": "stdout",
     "output_type": "stream",
     "text": [
      "Epoch: 001, Train Loss: 0.5091, Test Loss: 0.5327, Train MAE: 0.1288, Test MAE: 0.1360, , Train R2: 0.0242, Test R2: 0.0353\n",
      "Epoch: 002, Train Loss: 0.5083, Test Loss: 0.5322, Train MAE: 0.1274, Test MAE: 0.1351, , Train R2: 0.0354, Test R2: 0.0415\n",
      "Epoch: 003, Train Loss: 0.5093, Test Loss: 0.5312, Train MAE: 0.1296, Test MAE: 0.1355, , Train R2: 0.0213, Test R2: 0.0573\n",
      "Epoch: 004, Train Loss: 0.5070, Test Loss: 0.5301, Train MAE: 0.1257, Test MAE: 0.1331, , Train R2: 0.0537, Test R2: 0.0703\n",
      "Epoch: 005, Train Loss: 0.5105, Test Loss: 0.5378, Train MAE: 0.1193, Test MAE: 0.1311, , Train R2: 0.0041, Test R2: -0.0303\n",
      "Epoch: 006, Train Loss: 0.5041, Test Loss: 0.5286, Train MAE: 0.1187, Test MAE: 0.1282, , Train R2: 0.0907, Test R2: 0.0857\n",
      "Epoch: 007, Train Loss: 0.5005, Test Loss: 0.5243, Train MAE: 0.1148, Test MAE: 0.1239, , Train R2: 0.1403, Test R2: 0.1402\n",
      "Epoch: 008, Train Loss: 0.4954, Test Loss: 0.5260, Train MAE: 0.1155, Test MAE: 0.1308, , Train R2: 0.2247, Test R2: 0.1184\n",
      "Epoch: 009, Train Loss: 0.4991, Test Loss: 0.5201, Train MAE: 0.1189, Test MAE: 0.1251, , Train R2: 0.1840, Test R2: 0.2218\n",
      "Epoch: 010, Train Loss: 0.4964, Test Loss: 0.5179, Train MAE: 0.1148, Test MAE: 0.1207, , Train R2: 0.2114, Test R2: 0.2363\n",
      "Epoch: 011, Train Loss: 0.4880, Test Loss: 0.5173, Train MAE: 0.1071, Test MAE: 0.1206, , Train R2: 0.3402, Test R2: 0.2426\n",
      "Epoch: 012, Train Loss: 0.4826, Test Loss: 0.5153, Train MAE: 0.0843, Test MAE: 0.0988, , Train R2: 0.4046, Test R2: 0.3032\n",
      "Epoch: 013, Train Loss: 0.4612, Test Loss: 0.4889, Train MAE: 0.0647, Test MAE: 0.0798, , Train R2: 0.7316, Test R2: 0.6571\n",
      "Epoch: 014, Train Loss: 0.4546, Test Loss: 0.4831, Train MAE: 0.0487, Test MAE: 0.0613, , Train R2: 0.8089, Test R2: 0.7302\n",
      "Epoch: 015, Train Loss: 0.4524, Test Loss: 0.4792, Train MAE: 0.0454, Test MAE: 0.0577, , Train R2: 0.8305, Test R2: 0.7631\n",
      "Epoch: 016, Train Loss: 0.4572, Test Loss: 0.4859, Train MAE: 0.0539, Test MAE: 0.0662, , Train R2: 0.7684, Test R2: 0.6926\n",
      "Epoch: 017, Train Loss: 0.4510, Test Loss: 0.4760, Train MAE: 0.0438, Test MAE: 0.0563, , Train R2: 0.8514, Test R2: 0.7931\n",
      "Epoch: 018, Train Loss: 0.4536, Test Loss: 0.4791, Train MAE: 0.0478, Test MAE: 0.0581, , Train R2: 0.8177, Test R2: 0.7602\n",
      "Epoch: 019, Train Loss: 0.4504, Test Loss: 0.4745, Train MAE: 0.0419, Test MAE: 0.0539, , Train R2: 0.8546, Test R2: 0.8057\n",
      "Epoch: 020, Train Loss: 0.4539, Test Loss: 0.4783, Train MAE: 0.0489, Test MAE: 0.0601, , Train R2: 0.8130, Test R2: 0.7629\n",
      "Epoch: 021, Train Loss: 0.4513, Test Loss: 0.4754, Train MAE: 0.0459, Test MAE: 0.0575, , Train R2: 0.8417, Test R2: 0.7952\n",
      "Epoch: 022, Train Loss: 0.4564, Test Loss: 0.4805, Train MAE: 0.0564, Test MAE: 0.0671, , Train R2: 0.7755, Test R2: 0.7314\n",
      "Epoch: 023, Train Loss: 0.4531, Test Loss: 0.4771, Train MAE: 0.0496, Test MAE: 0.0617, , Train R2: 0.8252, Test R2: 0.7763\n",
      "Epoch: 024, Train Loss: 0.4503, Test Loss: 0.4746, Train MAE: 0.0432, Test MAE: 0.0555, , Train R2: 0.8493, Test R2: 0.7942\n",
      "Epoch: 025, Train Loss: 0.4492, Test Loss: 0.4730, Train MAE: 0.0398, Test MAE: 0.0528, , Train R2: 0.8719, Test R2: 0.8236\n",
      "Epoch: 026, Train Loss: 0.4492, Test Loss: 0.4731, Train MAE: 0.0396, Test MAE: 0.0516, , Train R2: 0.8696, Test R2: 0.8182\n",
      "Epoch: 027, Train Loss: 0.4493, Test Loss: 0.4729, Train MAE: 0.0402, Test MAE: 0.0530, , Train R2: 0.8674, Test R2: 0.8236\n",
      "Epoch: 028, Train Loss: 0.4486, Test Loss: 0.4725, Train MAE: 0.0381, Test MAE: 0.0513, , Train R2: 0.8789, Test R2: 0.8284\n",
      "Epoch: 029, Train Loss: 0.4495, Test Loss: 0.4733, Train MAE: 0.0398, Test MAE: 0.0528, , Train R2: 0.8660, Test R2: 0.8142\n",
      "Epoch: 030, Train Loss: 0.4537, Test Loss: 0.4794, Train MAE: 0.0484, Test MAE: 0.0620, , Train R2: 0.8159, Test R2: 0.7458\n",
      "Epoch: 031, Train Loss: 0.4502, Test Loss: 0.4736, Train MAE: 0.0427, Test MAE: 0.0547, , Train R2: 0.8479, Test R2: 0.8037\n",
      "Epoch: 032, Train Loss: 0.4535, Test Loss: 0.4766, Train MAE: 0.0509, Test MAE: 0.0607, , Train R2: 0.8121, Test R2: 0.7815\n",
      "Epoch: 033, Train Loss: 0.4537, Test Loss: 0.4760, Train MAE: 0.0502, Test MAE: 0.0587, , Train R2: 0.8088, Test R2: 0.7876\n",
      "Epoch: 034, Train Loss: 0.4485, Test Loss: 0.4717, Train MAE: 0.0383, Test MAE: 0.0509, , Train R2: 0.8786, Test R2: 0.8346\n",
      "Epoch: 035, Train Loss: 0.4496, Test Loss: 0.4727, Train MAE: 0.0398, Test MAE: 0.0513, , Train R2: 0.8671, Test R2: 0.8287\n",
      "Epoch: 036, Train Loss: 0.4478, Test Loss: 0.4700, Train MAE: 0.0364, Test MAE: 0.0469, , Train R2: 0.8886, Test R2: 0.8569\n",
      "Epoch: 037, Train Loss: 0.4512, Test Loss: 0.4735, Train MAE: 0.0436, Test MAE: 0.0540, , Train R2: 0.8464, Test R2: 0.8083\n",
      "Epoch: 038, Train Loss: 0.4481, Test Loss: 0.4702, Train MAE: 0.0371, Test MAE: 0.0473, , Train R2: 0.8830, Test R2: 0.8572\n",
      "Epoch: 039, Train Loss: 0.4477, Test Loss: 0.4702, Train MAE: 0.0358, Test MAE: 0.0477, , Train R2: 0.8894, Test R2: 0.8569\n",
      "Epoch: 040, Train Loss: 0.4486, Test Loss: 0.4720, Train MAE: 0.0384, Test MAE: 0.0505, , Train R2: 0.8754, Test R2: 0.8280\n",
      "Epoch: 041, Train Loss: 0.4531, Test Loss: 0.4770, Train MAE: 0.0461, Test MAE: 0.0574, , Train R2: 0.8395, Test R2: 0.7878\n",
      "Epoch: 042, Train Loss: 0.4477, Test Loss: 0.4696, Train MAE: 0.0370, Test MAE: 0.0457, , Train R2: 0.8863, Test R2: 0.8619\n",
      "Epoch: 043, Train Loss: 0.4481, Test Loss: 0.4699, Train MAE: 0.0368, Test MAE: 0.0464, , Train R2: 0.8862, Test R2: 0.8595\n",
      "Epoch: 044, Train Loss: 0.4514, Test Loss: 0.4739, Train MAE: 0.0455, Test MAE: 0.0548, , Train R2: 0.8384, Test R2: 0.8048\n",
      "Epoch: 045, Train Loss: 0.4496, Test Loss: 0.4714, Train MAE: 0.0415, Test MAE: 0.0490, , Train R2: 0.8568, Test R2: 0.8382\n",
      "Epoch: 046, Train Loss: 0.4494, Test Loss: 0.4709, Train MAE: 0.0412, Test MAE: 0.0480, , Train R2: 0.8616, Test R2: 0.8467\n",
      "Epoch: 047, Train Loss: 0.4491, Test Loss: 0.4715, Train MAE: 0.0397, Test MAE: 0.0494, , Train R2: 0.8731, Test R2: 0.8453\n",
      "Epoch: 048, Train Loss: 0.4486, Test Loss: 0.4706, Train MAE: 0.0380, Test MAE: 0.0479, , Train R2: 0.8790, Test R2: 0.8470\n",
      "Epoch: 049, Train Loss: 0.4475, Test Loss: 0.4687, Train MAE: 0.0361, Test MAE: 0.0446, , Train R2: 0.8898, Test R2: 0.8697\n",
      "Epoch: 050, Train Loss: 0.4487, Test Loss: 0.4704, Train MAE: 0.0389, Test MAE: 0.0473, , Train R2: 0.8777, Test R2: 0.8557\n"
     ]
    },
    {
     "data": {
      "text/plain": [
       "array([0.44873533, 0.0389479 , 0.87768001, 0.47036949, 0.04732379,\n",
       "       0.85567624])"
      ]
     },
     "execution_count": 8,
     "metadata": {},
     "output_type": "execute_result"
    },
    {
     "data": {
      "image/png": "[encoded data removed]",
      "text/plain": [
       "<Figure size 432x288 with 1 Axes>"
      ]
     },
     "metadata": {
      "needs_background": "light"
     },
     "output_type": "display_data"
    },
    {
     "data": {
      "image/png": "[encoded data removed]",
      "text/plain": [
       "<Figure size 432x288 with 1 Axes>"
      ]
     },
     "metadata": {
      "needs_background": "light"
     },
     "output_type": "display_data"
    }
   ],
   "source": [
    "t = Trainer(model, device, optimizer, scheduler, glob_v= False)\n",
    "t.train(train_loader, val_loader, nn.BCELoss, EPOCHS)"
   ]
  }
 ],
 "metadata": {
  "kernelspec": {
   "display_name": "GnnCataProj",
   "language": "python",
   "name": "python3"
  },
  "language_info": {
   "codemirror_mode": {
    "name": "ipython",
    "version": 3
   },
   "file_extension": ".py",
   "mimetype": "text/x-python",
   "name": "python",
   "nbconvert_exporter": "python",
   "pygments_lexer": "ipython3",
   "version": "3.8.13 | packaged by conda-forge | (default, Mar 25 2022, 05:59:45) [MSC v.1929 64 bit (AMD64)]"
  },
  "orig_nbformat": 4,
  "vscode": {
   "interpreter": {
    "hash": "60c01ca87e790fbba02349cee74039a7566d69b3907e07f5c100b7f11f4df75f"
   }
  }
 },
 "nbformat": 4,
 "nbformat_minor": 2
}
