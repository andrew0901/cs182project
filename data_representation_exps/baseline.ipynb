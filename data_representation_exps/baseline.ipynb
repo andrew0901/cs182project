{
 "cells": [
  {
   "cell_type": "code",
   "execution_count": 2,
   "metadata": {},
   "outputs": [],
   "source": [
    "import sys\n",
    "sys.path.insert(0,'..')"
   ]
  },
  {
   "cell_type": "code",
   "execution_count": 3,
   "metadata": {},
   "outputs": [],
   "source": [
    "from dataset import ASODataset\n",
    "from graph_fn import onehot_everything\n",
    "from sklearn.model_selection import train_test_split\n",
    "from models import *"
   ]
  },
  {
   "cell_type": "code",
   "execution_count": 11,
   "metadata": {},
   "outputs": [],
   "source": [
    "from sklearn.svm import SVR\n",
    "import numpy as np\n",
    "from sklearn.metrics import mean_absolute_error as MAE\n",
    "from sklearn.metrics import r2_score"
   ]
  },
  {
   "cell_type": "code",
   "execution_count": 5,
   "metadata": {},
   "outputs": [],
   "source": [
    "a = ASODataset(onehot_everything,no_graph=True)\n",
    "X_train, X_val, y_train, y_val = train_test_split(a.data[0], a.data[1], test_size=0.1)"
   ]
  },
  {
   "cell_type": "code",
   "execution_count": 25,
   "metadata": {},
   "outputs": [
    {
     "data": {
      "text/html": [
       "<style>#sk-container-id-5 {color: black;background-color: white;}#sk-container-id-5 pre{padding: 0;}#sk-container-id-5 div.sk-toggleable {background-color: white;}#sk-container-id-5 label.sk-toggleable__label {cursor: pointer;display: block;width: 100%;margin-bottom: 0;padding: 0.3em;box-sizing: border-box;text-align: center;}#sk-container-id-5 label.sk-toggleable__label-arrow:before {content: \"▸\";float: left;margin-right: 0.25em;color: #696969;}#sk-container-id-5 label.sk-toggleable__label-arrow:hover:before {color: black;}#sk-container-id-5 div.sk-estimator:hover label.sk-toggleable__label-arrow:before {color: black;}#sk-container-id-5 div.sk-toggleable__content {max-height: 0;max-width: 0;overflow: hidden;text-align: left;background-color: #f0f8ff;}#sk-container-id-5 div.sk-toggleable__content pre {margin: 0.2em;color: black;border-radius: 0.25em;background-color: #f0f8ff;}#sk-container-id-5 input.sk-toggleable__control:checked~div.sk-toggleable__content {max-height: 200px;max-width: 100%;overflow: auto;}#sk-container-id-5 input.sk-toggleable__control:checked~label.sk-toggleable__label-arrow:before {content: \"▾\";}#sk-container-id-5 div.sk-estimator input.sk-toggleable__control:checked~label.sk-toggleable__label {background-color: #d4ebff;}#sk-container-id-5 div.sk-label input.sk-toggleable__control:checked~label.sk-toggleable__label {background-color: #d4ebff;}#sk-container-id-5 input.sk-hidden--visually {border: 0;clip: rect(1px 1px 1px 1px);clip: rect(1px, 1px, 1px, 1px);height: 1px;margin: -1px;overflow: hidden;padding: 0;position: absolute;width: 1px;}#sk-container-id-5 div.sk-estimator {font-family: monospace;background-color: #f0f8ff;border: 1px dotted black;border-radius: 0.25em;box-sizing: border-box;margin-bottom: 0.5em;}#sk-container-id-5 div.sk-estimator:hover {background-color: #d4ebff;}#sk-container-id-5 div.sk-parallel-item::after {content: \"\";width: 100%;border-bottom: 1px solid gray;flex-grow: 1;}#sk-container-id-5 div.sk-label:hover label.sk-toggleable__label {background-color: #d4ebff;}#sk-container-id-5 div.sk-serial::before {content: \"\";position: absolute;border-left: 1px solid gray;box-sizing: border-box;top: 0;bottom: 0;left: 50%;z-index: 0;}#sk-container-id-5 div.sk-serial {display: flex;flex-direction: column;align-items: center;background-color: white;padding-right: 0.2em;padding-left: 0.2em;position: relative;}#sk-container-id-5 div.sk-item {position: relative;z-index: 1;}#sk-container-id-5 div.sk-parallel {display: flex;align-items: stretch;justify-content: center;background-color: white;position: relative;}#sk-container-id-5 div.sk-item::before, #sk-container-id-5 div.sk-parallel-item::before {content: \"\";position: absolute;border-left: 1px solid gray;box-sizing: border-box;top: 0;bottom: 0;left: 50%;z-index: -1;}#sk-container-id-5 div.sk-parallel-item {display: flex;flex-direction: column;z-index: 1;position: relative;background-color: white;}#sk-container-id-5 div.sk-parallel-item:first-child::after {align-self: flex-end;width: 50%;}#sk-container-id-5 div.sk-parallel-item:last-child::after {align-self: flex-start;width: 50%;}#sk-container-id-5 div.sk-parallel-item:only-child::after {width: 0;}#sk-container-id-5 div.sk-dashed-wrapped {border: 1px dashed gray;margin: 0 0.4em 0.5em 0.4em;box-sizing: border-box;padding-bottom: 0.4em;background-color: white;}#sk-container-id-5 div.sk-label label {font-family: monospace;font-weight: bold;display: inline-block;line-height: 1.2em;}#sk-container-id-5 div.sk-label-container {text-align: center;}#sk-container-id-5 div.sk-container {/* jupyter's `normalize.less` sets `[hidden] { display: none; }` but bootstrap.min.css set `[hidden] { display: none !important; }` so we also need the `!important` here to be able to override the default hidden behavior on the sphinx rendered scikit-learn.org. See: https://github.com/scikit-learn/scikit-learn/issues/21755 */display: inline-block !important;position: relative;}#sk-container-id-5 div.sk-text-repr-fallback {display: none;}</style><div id=\"sk-container-id-5\" class=\"sk-top-container\"><div class=\"sk-text-repr-fallback\"><pre>SVR(C=0.5, epsilon=0.075)</pre><b>In a Jupyter environment, please rerun this cell to show the HTML representation or trust the notebook. <br />On GitHub, the HTML representation is unable to render, please try loading this page with nbviewer.org.</b></div><div class=\"sk-container\" hidden><div class=\"sk-item\"><div class=\"sk-estimator sk-toggleable\"><input class=\"sk-toggleable__control sk-hidden--visually\" id=\"sk-estimator-id-5\" type=\"checkbox\" checked><label for=\"sk-estimator-id-5\" class=\"sk-toggleable__label sk-toggleable__label-arrow\">SVR</label><div class=\"sk-toggleable__content\"><pre>SVR(C=0.5, epsilon=0.075)</pre></div></div></div></div></div>"
      ],
      "text/plain": [
       "SVR(C=0.5, epsilon=0.075)"
      ]
     },
     "execution_count": 25,
     "metadata": {},
     "output_type": "execute_result"
    }
   ],
   "source": [
    "regr = SVR(C=0.5, epsilon=0.075)\n",
    "regr.fit(X_train, y_train)"
   ]
  },
  {
   "cell_type": "code",
   "execution_count": 26,
   "metadata": {},
   "outputs": [],
   "source": [
    "y_predicted = regr.predict(X_val)\n",
    "y_train_predict = regr.predict(X_train)"
   ]
  },
  {
   "cell_type": "code",
   "execution_count": 27,
   "metadata": {},
   "outputs": [
    {
     "name": "stdout",
     "output_type": "stream",
     "text": [
      "0.053276006702657516 0.059352746902414315\n",
      "0.854851690034537 0.8113512769414353\n"
     ]
    }
   ],
   "source": [
    "print(MAE(y_train, y_train_predict),MAE(y_val, y_predicted))\n",
    "print(r2_score(y_train, y_train_predict), r2_score(y_val, y_predicted))"
   ]
  },
  {
   "cell_type": "code",
   "execution_count": null,
   "metadata": {},
   "outputs": [],
   "source": []
  },
  {
   "cell_type": "code",
   "execution_count": 28,
   "metadata": {},
   "outputs": [
    {
     "name": "stdout",
     "output_type": "stream",
     "text": [
      "0.052916799739819685 0.12798206514043411\n",
      "0.8491888477916467 0.14466211231251624\n"
     ]
    }
   ],
   "source": [
    "X_train, X_val, y_train, y_val = a.sample_test_data_catalyst_only(10,2,2)\n",
    "regr = SVR(C=0.5, epsilon=0.075)\n",
    "regr.fit(X_train, y_train)\n",
    "y_predicted = regr.predict(X_val)\n",
    "y_train_predict = regr.predict(X_train)\n",
    "print(MAE(y_train, y_train_predict),MAE(y_val, y_predicted))\n",
    "print(r2_score(y_train, y_train_predict), r2_score(y_val, y_predicted))\n"
   ]
  },
  {
   "cell_type": "code",
   "execution_count": 29,
   "metadata": {},
   "outputs": [
    {
     "name": "stdout",
     "output_type": "stream",
     "text": [
      "0.057455180111013304 0.0988999538256312\n",
      "0.8417843015850386 0.43036724358216405\n"
     ]
    }
   ],
   "source": [
    "X_train, X_val, y_train, y_val = a.sample_test_data_reactant_only(10,2,2)\n",
    "regr = SVR(C=0.5, epsilon=0.075)\n",
    "regr.fit(X_train, y_train)\n",
    "y_predicted = regr.predict(X_val)\n",
    "y_train_predict = regr.predict(X_train)\n",
    "print(MAE(y_train, y_train_predict),MAE(y_val, y_predicted))\n",
    "print(r2_score(y_train, y_train_predict), r2_score(y_val, y_predicted))"
   ]
  },
  {
   "cell_type": "code",
   "execution_count": null,
   "metadata": {},
   "outputs": [],
   "source": []
  },
  {
   "cell_type": "code",
   "execution_count": 37,
   "metadata": {},
   "outputs": [
    {
     "name": "stdout",
     "output_type": "stream",
     "text": [
      "0.03176182841978545 0.0453524462102119\n",
      "0.9213294145678639 0.8386269841615821\n"
     ]
    }
   ],
   "source": [
    "from sklearn.ensemble import RandomForestRegressor\n",
    "X_train, X_val, y_train, y_val = train_test_split(a.data[0], a.data[1], test_size=0.1)\n",
    "regr = RandomForestRegressor(n_estimators=200, max_depth=15, random_state=0)\n",
    "regr.fit(X_train, y_train)\n",
    "y_predicted = regr.predict(X_val)\n",
    "y_train_predict = regr.predict(X_train)\n",
    "print(MAE(y_train, y_train_predict),MAE(y_val, y_predicted))\n",
    "print(r2_score(y_train, y_train_predict), r2_score(y_val, y_predicted))"
   ]
  },
  {
   "cell_type": "code",
   "execution_count": 38,
   "metadata": {},
   "outputs": [
    {
     "name": "stdout",
     "output_type": "stream",
     "text": [
      "0.023510680189869407 0.14011626889626627\n",
      "0.9465103734767081 -0.48534149539733584\n"
     ]
    }
   ],
   "source": [
    "from sklearn.ensemble import RandomForestRegressor\n",
    "X_train, X_val, y_train, y_val = a.sample_test_data_catalyst_only(10,2,2)\n",
    "regr = RandomForestRegressor(n_estimators=200, max_depth=15, random_state=0)\n",
    "regr.fit(X_train, y_train)\n",
    "y_predicted = regr.predict(X_val)\n",
    "y_train_predict = regr.predict(X_train)\n",
    "print(MAE(y_train, y_train_predict),MAE(y_val, y_predicted))\n",
    "print(r2_score(y_train, y_train_predict), r2_score(y_val, y_predicted))"
   ]
  },
  {
   "cell_type": "code",
   "execution_count": 39,
   "metadata": {},
   "outputs": [
    {
     "name": "stdout",
     "output_type": "stream",
     "text": [
      "0.0388228655178282 0.13340311947389244\n",
      "0.8926345997703122 -0.07018547653754625\n"
     ]
    }
   ],
   "source": [
    "from sklearn.ensemble import RandomForestRegressor\n",
    "X_train, X_val, y_train, y_val = a.sample_test_data_reactant_only(10,2,2)\n",
    "regr = RandomForestRegressor(n_estimators=200, max_depth=15, random_state=0)\n",
    "regr.fit(X_train, y_train)\n",
    "y_predicted = regr.predict(X_val)\n",
    "y_train_predict = regr.predict(X_train)\n",
    "print(MAE(y_train, y_train_predict),MAE(y_val, y_predicted))\n",
    "print(r2_score(y_train, y_train_predict), r2_score(y_val, y_predicted))"
   ]
  },
  {
   "cell_type": "code",
   "execution_count": null,
   "metadata": {},
   "outputs": [],
   "source": []
  }
 ],
 "metadata": {
  "kernelspec": {
   "display_name": "Hartwig",
   "language": "python",
   "name": "hartwig"
  },
  "language_info": {
   "codemirror_mode": {
    "name": "ipython",
    "version": 3
   },
   "file_extension": ".py",
   "mimetype": "text/x-python",
   "name": "python",
   "nbconvert_exporter": "python",
   "pygments_lexer": "ipython3",
   "version": "3.8.16"
  },
  "orig_nbformat": 4,
  "vscode": {
   "interpreter": {
    "hash": "60c01ca87e790fbba02349cee74039a7566d69b3907e07f5c100b7f11f4df75f"
   }
  }
 },
 "nbformat": 4,
 "nbformat_minor": 2
}
