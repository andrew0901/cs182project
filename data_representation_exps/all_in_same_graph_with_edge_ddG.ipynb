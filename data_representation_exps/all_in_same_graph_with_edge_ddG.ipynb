{
 "cells": [
  {
   "cell_type": "code",
   "execution_count": 1,
   "metadata": {},
   "outputs": [],
   "source": [
    "import sys\n",
    "sys.path.insert(0,'..')"
   ]
  },
  {
   "cell_type": "code",
   "execution_count": 2,
   "metadata": {},
   "outputs": [],
   "source": [
    "from dataset import ASODataset\n",
    "from graph_fn import single_graph_batch\n",
    "from trainer import Trainer\n",
    "from sklearn.model_selection import train_test_split\n",
    "from torch.optim.lr_scheduler import ExponentialLR\n",
    "import torch\n",
    "from torch_geometric.loader import DataLoader\n",
    "from models import *"
   ]
  },
  {
   "cell_type": "code",
   "execution_count": 3,
   "metadata": {},
   "outputs": [],
   "source": [
    "#hyperparameters\n",
    "LEARNING_RATE = 7.5e-3\n",
    "BATCH_SIZE = 16\n",
    "NODE_INPUT_SIZE = 14\n",
    "OUTPUT_SIZE_BEFORE_POOL = 20\n",
    "NODE_HIDDEN_SIZE = 50\n",
    "EPOCHS = 50\n",
    "DROP_OUT = 0\n",
    "BOND_ATTR = 5"
   ]
  },
  {
   "cell_type": "code",
   "execution_count": 4,
   "metadata": {},
   "outputs": [
    {
     "name": "stderr",
     "output_type": "stream",
     "text": [
      "c:\\Users\\Haoyu Fan\\Desktop\\GNN\\GNN_enantioselectivity\\runs\\..\\ASOhelpers.py:133: UserWarning: Creating a tensor from a list of numpy.ndarrays is extremely slow. Please consider converting the list to a single numpy.ndarray with numpy.array() before converting to a tensor. (Triggered internally at  C:\\cb\\pytorch_1000000000000\\work\\torch\\csrc\\utils\\tensor_new.cpp:204.)\n",
      "  edge_attr = torch.tensor(edge_attr, dtype=torch.float)\n"
     ]
    }
   ],
   "source": [
    "a = ASODataset(single_graph_batch, learning_from=\"ddG\")\n",
    "train_data, val_data = train_test_split(a.data, test_size = 0.1, random_state = 42)\n",
    "train_loader = DataLoader(train_data, batch_size = BATCH_SIZE, shuffle = True)\n",
    "val_loader = DataLoader(val_data, batch_size = BATCH_SIZE, shuffle = False)"
   ]
  },
  {
   "cell_type": "code",
   "execution_count": 8,
   "metadata": {},
   "outputs": [],
   "source": [
    "device = torch.device('cuda')\n",
    "model = GNNModel_sg_edge_attr_ddG(NODE_INPUT_SIZE, NODE_HIDDEN_SIZE, \n",
    "                      OUTPUT_SIZE_BEFORE_POOL, BOND_ATTR, num_layers=3, dp_rate=DROP_OUT)\n",
    "optimizer = torch.optim.Adam(model.parameters(), lr=LEARNING_RATE)\n",
    "scheduler = ExponentialLR(optimizer, gamma=0.95)"
   ]
  },
  {
   "cell_type": "code",
   "execution_count": 9,
   "metadata": {},
   "outputs": [
    {
     "name": "stdout",
     "output_type": "stream",
     "text": [
      "Epoch: 001, Train Loss: 0.5370, Test Loss: 0.5683, Train MAE: 0.5705, Test MAE: 0.5819, , Train R2: -0.1184, Test R2: -0.0523\n",
      "Epoch: 002, Train Loss: 0.4629, Test Loss: 0.5168, Train MAE: 0.5396, Test MAE: 0.5733, , Train R2: 0.0359, Test R2: 0.0431\n",
      "Epoch: 003, Train Loss: 0.4520, Test Loss: 0.5100, Train MAE: 0.5311, Test MAE: 0.5682, , Train R2: 0.0586, Test R2: 0.0556\n",
      "Epoch: 004, Train Loss: 0.4272, Test Loss: 0.4792, Train MAE: 0.5174, Test MAE: 0.5533, , Train R2: 0.1104, Test R2: 0.1126\n",
      "Epoch: 005, Train Loss: 0.4656, Test Loss: 0.4963, Train MAE: 0.5371, Test MAE: 0.5528, , Train R2: 0.0303, Test R2: 0.0810\n",
      "Epoch: 006, Train Loss: 0.4421, Test Loss: 0.4628, Train MAE: 0.5187, Test MAE: 0.5258, , Train R2: 0.0793, Test R2: 0.1431\n",
      "Epoch: 007, Train Loss: 0.4373, Test Loss: 0.4914, Train MAE: 0.5312, Test MAE: 0.5745, , Train R2: 0.0894, Test R2: 0.0900\n",
      "Epoch: 008, Train Loss: 0.3261, Test Loss: 0.3495, Train MAE: 0.4493, Test MAE: 0.4760, , Train R2: 0.3210, Test R2: 0.3528\n",
      "Epoch: 009, Train Loss: 0.3141, Test Loss: 0.3402, Train MAE: 0.4329, Test MAE: 0.4623, , Train R2: 0.3458, Test R2: 0.3700\n",
      "Epoch: 010, Train Loss: 0.2787, Test Loss: 0.3051, Train MAE: 0.4048, Test MAE: 0.4351, , Train R2: 0.4195, Test R2: 0.4351\n",
      "Epoch: 011, Train Loss: 0.2265, Test Loss: 0.2610, Train MAE: 0.3574, Test MAE: 0.3923, , Train R2: 0.5283, Test R2: 0.5167\n",
      "Epoch: 012, Train Loss: 0.2879, Test Loss: 0.3184, Train MAE: 0.4330, Test MAE: 0.4533, , Train R2: 0.4005, Test R2: 0.4104\n",
      "Epoch: 013, Train Loss: 0.1852, Test Loss: 0.2463, Train MAE: 0.3161, Test MAE: 0.3790, , Train R2: 0.6143, Test R2: 0.5440\n",
      "Epoch: 014, Train Loss: 0.1531, Test Loss: 0.2000, Train MAE: 0.2979, Test MAE: 0.3348, , Train R2: 0.6812, Test R2: 0.6297\n",
      "Epoch: 015, Train Loss: 0.1009, Test Loss: 0.1432, Train MAE: 0.2451, Test MAE: 0.2874, , Train R2: 0.7900, Test R2: 0.7349\n",
      "Epoch: 016, Train Loss: 0.0902, Test Loss: 0.1276, Train MAE: 0.2319, Test MAE: 0.2685, , Train R2: 0.8122, Test R2: 0.7637\n",
      "Epoch: 017, Train Loss: 0.0925, Test Loss: 0.1320, Train MAE: 0.2376, Test MAE: 0.2817, , Train R2: 0.8074, Test R2: 0.7555\n",
      "Epoch: 018, Train Loss: 0.1764, Test Loss: 0.2226, Train MAE: 0.3160, Test MAE: 0.3599, , Train R2: 0.6327, Test R2: 0.5878\n",
      "Epoch: 019, Train Loss: 0.0939, Test Loss: 0.1338, Train MAE: 0.2223, Test MAE: 0.2632, , Train R2: 0.8045, Test R2: 0.7523\n",
      "Epoch: 020, Train Loss: 0.0954, Test Loss: 0.1227, Train MAE: 0.2426, Test MAE: 0.2802, , Train R2: 0.8014, Test R2: 0.7728\n",
      "Epoch: 021, Train Loss: 0.0962, Test Loss: 0.1298, Train MAE: 0.2335, Test MAE: 0.2757, , Train R2: 0.7996, Test R2: 0.7597\n",
      "Epoch: 022, Train Loss: 0.0804, Test Loss: 0.1073, Train MAE: 0.2041, Test MAE: 0.2352, , Train R2: 0.8327, Test R2: 0.8013\n",
      "Epoch: 023, Train Loss: 0.0748, Test Loss: 0.1055, Train MAE: 0.2110, Test MAE: 0.2496, , Train R2: 0.8442, Test R2: 0.8046\n",
      "Epoch: 024, Train Loss: 0.0741, Test Loss: 0.1052, Train MAE: 0.2061, Test MAE: 0.2430, , Train R2: 0.8456, Test R2: 0.8053\n",
      "Epoch: 025, Train Loss: 0.1133, Test Loss: 0.1484, Train MAE: 0.2608, Test MAE: 0.2992, , Train R2: 0.7640, Test R2: 0.7251\n",
      "Epoch: 026, Train Loss: 0.1096, Test Loss: 0.1235, Train MAE: 0.2645, Test MAE: 0.2863, , Train R2: 0.7717, Test R2: 0.7712\n",
      "Epoch: 027, Train Loss: 0.0794, Test Loss: 0.0998, Train MAE: 0.2238, Test MAE: 0.2433, , Train R2: 0.8346, Test R2: 0.8151\n",
      "Epoch: 028, Train Loss: 0.0815, Test Loss: 0.0974, Train MAE: 0.2199, Test MAE: 0.2404, , Train R2: 0.8303, Test R2: 0.8196\n",
      "Epoch: 029, Train Loss: 0.0900, Test Loss: 0.1191, Train MAE: 0.2107, Test MAE: 0.2480, , Train R2: 0.8125, Test R2: 0.7795\n",
      "Epoch: 030, Train Loss: 0.0721, Test Loss: 0.0999, Train MAE: 0.1997, Test MAE: 0.2355, , Train R2: 0.8498, Test R2: 0.8151\n",
      "Epoch: 031, Train Loss: 0.0803, Test Loss: 0.1104, Train MAE: 0.2015, Test MAE: 0.2435, , Train R2: 0.8328, Test R2: 0.7956\n",
      "Epoch: 032, Train Loss: 0.0712, Test Loss: 0.0965, Train MAE: 0.1917, Test MAE: 0.2229, , Train R2: 0.8517, Test R2: 0.8214\n",
      "Epoch: 033, Train Loss: 0.0704, Test Loss: 0.0998, Train MAE: 0.1985, Test MAE: 0.2380, , Train R2: 0.8535, Test R2: 0.8152\n",
      "Epoch: 034, Train Loss: 0.0720, Test Loss: 0.1003, Train MAE: 0.1958, Test MAE: 0.2277, , Train R2: 0.8501, Test R2: 0.8143\n",
      "Epoch: 035, Train Loss: 0.0832, Test Loss: 0.1116, Train MAE: 0.2107, Test MAE: 0.2523, , Train R2: 0.8268, Test R2: 0.7933\n",
      "Epoch: 036, Train Loss: 0.0696, Test Loss: 0.1000, Train MAE: 0.1907, Test MAE: 0.2335, , Train R2: 0.8551, Test R2: 0.8149\n",
      "Epoch: 037, Train Loss: 0.0923, Test Loss: 0.1238, Train MAE: 0.2115, Test MAE: 0.2540, , Train R2: 0.8078, Test R2: 0.7707\n",
      "Epoch: 038, Train Loss: 0.0692, Test Loss: 0.1001, Train MAE: 0.1894, Test MAE: 0.2335, , Train R2: 0.8559, Test R2: 0.8147\n",
      "Epoch: 039, Train Loss: 0.1142, Test Loss: 0.1476, Train MAE: 0.2568, Test MAE: 0.2987, , Train R2: 0.7621, Test R2: 0.7267\n",
      "Epoch: 040, Train Loss: 0.0681, Test Loss: 0.0928, Train MAE: 0.1915, Test MAE: 0.2276, , Train R2: 0.8582, Test R2: 0.8281\n",
      "Epoch: 041, Train Loss: 0.0776, Test Loss: 0.0910, Train MAE: 0.2081, Test MAE: 0.2305, , Train R2: 0.8384, Test R2: 0.8315\n",
      "Epoch: 042, Train Loss: 0.0650, Test Loss: 0.0918, Train MAE: 0.1939, Test MAE: 0.2325, , Train R2: 0.8647, Test R2: 0.8301\n",
      "Epoch: 043, Train Loss: 0.1021, Test Loss: 0.1052, Train MAE: 0.2492, Test MAE: 0.2551, , Train R2: 0.7874, Test R2: 0.8052\n",
      "Epoch: 044, Train Loss: 0.0850, Test Loss: 0.1154, Train MAE: 0.2207, Test MAE: 0.2534, , Train R2: 0.8229, Test R2: 0.7863\n",
      "Epoch: 045, Train Loss: 0.0755, Test Loss: 0.1053, Train MAE: 0.2059, Test MAE: 0.2409, , Train R2: 0.8427, Test R2: 0.8050\n",
      "Epoch: 046, Train Loss: 0.0633, Test Loss: 0.0883, Train MAE: 0.1864, Test MAE: 0.2171, , Train R2: 0.8681, Test R2: 0.8364\n",
      "Epoch: 047, Train Loss: 0.0622, Test Loss: 0.0853, Train MAE: 0.1790, Test MAE: 0.2097, , Train R2: 0.8706, Test R2: 0.8420\n",
      "Epoch: 048, Train Loss: 0.0687, Test Loss: 0.0931, Train MAE: 0.1860, Test MAE: 0.2247, , Train R2: 0.8569, Test R2: 0.8275\n",
      "Epoch: 049, Train Loss: 0.0836, Test Loss: 0.1015, Train MAE: 0.2202, Test MAE: 0.2519, , Train R2: 0.8260, Test R2: 0.8121\n",
      "Epoch: 050, Train Loss: 0.0723, Test Loss: 0.0880, Train MAE: 0.1946, Test MAE: 0.2168, , Train R2: 0.8494, Test R2: 0.8370\n"
     ]
    },
    {
     "data": {
      "text/plain": [
       "array([0.07232855, 0.19460368, 0.8493707 , 0.08801619, 0.21683997,\n",
       "       0.83702421])"
      ]
     },
     "execution_count": 9,
     "metadata": {},
     "output_type": "execute_result"
    },
    {
     "data": {
      "image/png": "[encoded data removed]",
      "text/plain": [
       "<Figure size 432x288 with 1 Axes>"
      ]
     },
     "metadata": {
      "needs_background": "light"
     },
     "output_type": "display_data"
    },
    {
     "data": {
      "image/png": "[encoded data removed]",
      "text/plain": [
       "<Figure size 432x288 with 1 Axes>"
      ]
     },
     "metadata": {
      "needs_background": "light"
     },
     "output_type": "display_data"
    }
   ],
   "source": [
    "t = Trainer(model, device, optimizer, scheduler, glob_v= False)\n",
    "t.train(train_loader, val_loader, nn.MSELoss, EPOCHS)"
   ]
  }
 ],
 "metadata": {
  "kernelspec": {
   "display_name": "GnnCataProj",
   "language": "python",
   "name": "python3"
  },
  "language_info": {
   "codemirror_mode": {
    "name": "ipython",
    "version": 3
   },
   "file_extension": ".py",
   "mimetype": "text/x-python",
   "name": "python",
   "nbconvert_exporter": "python",
   "pygments_lexer": "ipython3",
   "version": "3.8.13 | packaged by conda-forge | (default, Mar 25 2022, 05:59:45) [MSC v.1929 64 bit (AMD64)]"
  },
  "orig_nbformat": 4,
  "vscode": {
   "interpreter": {
    "hash": "60c01ca87e790fbba02349cee74039a7566d69b3907e07f5c100b7f11f4df75f"
   }
  }
 },
 "nbformat": 4,
 "nbformat_minor": 2
}
